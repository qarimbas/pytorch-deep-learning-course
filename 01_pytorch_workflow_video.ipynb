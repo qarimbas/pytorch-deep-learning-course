{
  "nbformat": 4,
  "nbformat_minor": 0,
  "metadata": {
    "colab": {
      "provenance": [],
      "authorship_tag": "ABX9TyPuXhi5EdvA8LT88K9JGvbD",
      "include_colab_link": true
    },
    "kernelspec": {
      "name": "python3",
      "display_name": "Python 3"
    },
    "language_info": {
      "name": "python"
    }
  },
  "cells": [
    {
      "cell_type": "markdown",
      "metadata": {
        "id": "view-in-github",
        "colab_type": "text"
      },
      "source": [
        "<a href=\"https://colab.research.google.com/github/qarimbas/pytorch-deep-learning-course/blob/main/01_pytorch_workflow_video.ipynb\" target=\"_parent\"><img src=\"https://colab.research.google.com/assets/colab-badge.svg\" alt=\"Open In Colab\"/></a>"
      ]
    },
    {
      "cell_type": "code",
      "source": [
        "what_were_covering = {1: \"data (prepare and load)\",\n",
        "    2: \"build model\",\n",
        "    3: \"fitting the model to data (training)\",\n",
        "    4: \"making predictions and evaluating a model (inference)\",\n",
        "    5: \"saving and loading a model\",\n",
        "    6: \"putting it all together\"\n",
        "}"
      ],
      "metadata": {
        "id": "4wD96VJzWlBB"
      },
      "execution_count": null,
      "outputs": []
    },
    {
      "cell_type": "code",
      "source": [
        "import torch\n",
        "from torch import nn # nn contains all of PyTorch's building blocks for neural networks\n",
        "import matplotlib.pyplot as plt\n",
        "\n",
        "# Check PyTorch version\n",
        "torch.__version__"
      ],
      "metadata": {
        "colab": {
          "base_uri": "https://localhost:8080/",
          "height": 35
        },
        "id": "mJGlPO8GWsN_",
        "outputId": "68e0fb9f-7571-4ba6-b54c-45295fe39015"
      },
      "execution_count": null,
      "outputs": [
        {
          "output_type": "execute_result",
          "data": {
            "text/plain": [
              "'1.13.0+cu116'"
            ],
            "application/vnd.google.colaboratory.intrinsic+json": {
              "type": "string"
            }
          },
          "metadata": {},
          "execution_count": 148
        }
      ]
    },
    {
      "cell_type": "code",
      "source": [
        "# Create *known* parameters\n",
        "weight = 0.7\n",
        "bias = 0.3\n",
        "\n",
        "# Create data\n",
        "start = 0\n",
        "end = 1\n",
        "step = 0.02\n",
        "X = torch.arange(start, end, step).unsqueeze(dim=1)\n",
        "y = weight * X + bias\n",
        "\n",
        "X[:10], y[:10]"
      ],
      "metadata": {
        "colab": {
          "base_uri": "https://localhost:8080/"
        },
        "id": "3JSQ12OCWt3r",
        "outputId": "5d15bdc2-5755-44f2-dfcc-270b0d7e4b96"
      },
      "execution_count": null,
      "outputs": [
        {
          "output_type": "execute_result",
          "data": {
            "text/plain": [
              "(tensor([[0.0000],\n",
              "         [0.0200],\n",
              "         [0.0400],\n",
              "         [0.0600],\n",
              "         [0.0800],\n",
              "         [0.1000],\n",
              "         [0.1200],\n",
              "         [0.1400],\n",
              "         [0.1600],\n",
              "         [0.1800]]), tensor([[0.3000],\n",
              "         [0.3140],\n",
              "         [0.3280],\n",
              "         [0.3420],\n",
              "         [0.3560],\n",
              "         [0.3700],\n",
              "         [0.3840],\n",
              "         [0.3980],\n",
              "         [0.4120],\n",
              "         [0.4260]]))"
            ]
          },
          "metadata": {},
          "execution_count": 149
        }
      ]
    },
    {
      "cell_type": "code",
      "source": [
        "# Create train/test split\n",
        "train_split = int(0.8 * len(X)) # 80% of data used for training set, 20% for testing \n",
        "X_train, y_train = X[:train_split], y[:train_split]\n",
        "X_test, y_test = X[train_split:], y[train_split:]\n",
        "\n",
        "len(X_train), len(y_train), len(X_test), len(y_test)"
      ],
      "metadata": {
        "colab": {
          "base_uri": "https://localhost:8080/"
        },
        "id": "uhxgyaRzWv-F",
        "outputId": "e4b95435-1af3-469a-eff1-0d58eaead59a"
      },
      "execution_count": null,
      "outputs": [
        {
          "output_type": "execute_result",
          "data": {
            "text/plain": [
              "(40, 40, 10, 10)"
            ]
          },
          "metadata": {},
          "execution_count": 150
        }
      ]
    },
    {
      "cell_type": "code",
      "source": [
        "def plot_predictions(train_data=X_train, \n",
        "                     train_labels=y_train, \n",
        "                     test_data=X_test, \n",
        "                     test_labels=y_test, \n",
        "                     predictions=None):\n",
        "  \"\"\"\n",
        "  Plots training data, test data and compares predictions.\n",
        "  \"\"\"\n",
        "  plt.figure(figsize=(10, 7))\n",
        "\n",
        "  # Plot training data in blue\n",
        "  plt.scatter(train_data, train_labels, c=\"b\", s=4, label=\"Training data\")\n",
        "  \n",
        "  # Plot test data in green\n",
        "  plt.scatter(test_data, test_labels, c=\"g\", s=4, label=\"Testing data\")\n",
        "\n",
        "  if predictions is not None:\n",
        "    # Plot the predictions in red (predictions were made on the test data)\n",
        "    plt.scatter(test_data, predictions, c=\"r\", s=4, label=\"Predictions\")\n",
        "\n",
        "  # Show the legend\n",
        "  plt.legend(prop={\"size\": 14});"
      ],
      "metadata": {
        "id": "Q4DfXs1SWx5q"
      },
      "execution_count": null,
      "outputs": []
    },
    {
      "cell_type": "code",
      "source": [
        "plot_predictions();"
      ],
      "metadata": {
        "colab": {
          "base_uri": "https://localhost:8080/",
          "height": 428
        },
        "id": "jfz4NvIxW0I7",
        "outputId": "d9abd064-81e6-4051-f064-5be2bb529e8b"
      },
      "execution_count": null,
      "outputs": [
        {
          "output_type": "display_data",
          "data": {
            "text/plain": [
              "<Figure size 720x504 with 1 Axes>"
            ],
            "image/png": "[encoded data removed]"
          },
          "metadata": {
            "needs_background": "light"
          }
        }
      ]
    },
    {
      "cell_type": "code",
      "execution_count": null,
      "metadata": {
        "id": "RtC79zfbJycy"
      },
      "outputs": [],
      "source": [
        "#Building Model\n",
        "## Create linear regression model class\n",
        "\n",
        "from torch import nn\n",
        "\n",
        "class LinearRegressionModel(nn.Module):\n",
        "  def __init__(self):\n",
        "    super().__init__()\n",
        "    self.weights = nn.Parameter(torch.rand(1, requires_grad=True, dtype=torch.float))\n",
        "\n",
        "    self.bias = nn.Parameter(torch.randn(1, requires_grad=True, dtype=torch.float))\n",
        "\n",
        "  #Forward method to define the computation in the model\n",
        "  def forward(self, x: torch.Tensor) -> torch.Tensor:\n",
        "    return self.weights * x + self.bias\n",
        "\n",
        "\n"
      ]
    },
    {
      "cell_type": "code",
      "source": [
        "torch.manual_seed(42)\n",
        "\n",
        "model_0 = LinearRegressionModel()\n",
        "\n",
        "list(model_0.parameters())"
      ],
      "metadata": {
        "colab": {
          "base_uri": "https://localhost:8080/"
        },
        "id": "73fmX84tQvf_",
        "outputId": "e37438f4-e227-4d9c-f5c1-02de03149893"
      },
      "execution_count": null,
      "outputs": [
        {
          "output_type": "execute_result",
          "data": {
            "text/plain": [
              "[Parameter containing:\n",
              " tensor([0.8823], requires_grad=True), Parameter containing:\n",
              " tensor([-0.6382], requires_grad=True)]"
            ]
          },
          "metadata": {},
          "execution_count": 154
        }
      ]
    },
    {
      "cell_type": "code",
      "source": [
        "model_0.state_dict()"
      ],
      "metadata": {
        "colab": {
          "base_uri": "https://localhost:8080/"
        },
        "id": "g5Ll5fNzUW0R",
        "outputId": "732bbd1e-b3ae-4d40-eeac-de6dcac71489"
      },
      "execution_count": null,
      "outputs": [
        {
          "output_type": "execute_result",
          "data": {
            "text/plain": [
              "OrderedDict([('weights', tensor([0.8823])), ('bias', tensor([-0.6382]))])"
            ]
          },
          "metadata": {},
          "execution_count": 155
        }
      ]
    },
    {
      "cell_type": "code",
      "source": [
        "y_preds = model_0(X_test)\n",
        "y_preds"
      ],
      "metadata": {
        "colab": {
          "base_uri": "https://localhost:8080/"
        },
        "id": "HmUeJ4gsYedZ",
        "outputId": "6aadbe96-e4cc-4d2e-8082-b19a35627d65"
      },
      "execution_count": null,
      "outputs": [
        {
          "output_type": "execute_result",
          "data": {
            "text/plain": [
              "tensor([[0.0677],\n",
              "        [0.0853],\n",
              "        [0.1030],\n",
              "        [0.1206],\n",
              "        [0.1382],\n",
              "        [0.1559],\n",
              "        [0.1735],\n",
              "        [0.1912],\n",
              "        [0.2088],\n",
              "        [0.2265]], grad_fn=<AddBackward0>)"
            ]
          },
          "metadata": {},
          "execution_count": 156
        }
      ]
    },
    {
      "cell_type": "code",
      "source": [
        "with torch.inference_mode():\n",
        "  y_preds = model_0(X_test)\n",
        "\n",
        "#with torch.no_grad():\n",
        "#  y_preds = model_0(X_test)\n",
        "\n",
        "y_preds"
      ],
      "metadata": {
        "colab": {
          "base_uri": "https://localhost:8080/"
        },
        "id": "upjZOfX1VxHp",
        "outputId": "014ec986-ce29-4fc0-e07d-ffdb1309a3b4"
      },
      "execution_count": null,
      "outputs": [
        {
          "output_type": "execute_result",
          "data": {
            "text/plain": [
              "tensor([[0.0677],\n",
              "        [0.0853],\n",
              "        [0.1030],\n",
              "        [0.1206],\n",
              "        [0.1382],\n",
              "        [0.1559],\n",
              "        [0.1735],\n",
              "        [0.1912],\n",
              "        [0.2088],\n",
              "        [0.2265]])"
            ]
          },
          "metadata": {},
          "execution_count": 157
        }
      ]
    },
    {
      "cell_type": "code",
      "source": [
        "y_test"
      ],
      "metadata": {
        "colab": {
          "base_uri": "https://localhost:8080/"
        },
        "id": "ECG7YPlCX6UL",
        "outputId": "0a611ae5-f75c-4d56-8220-fd6dd98969b1"
      },
      "execution_count": null,
      "outputs": [
        {
          "output_type": "execute_result",
          "data": {
            "text/plain": [
              "tensor([[0.8600],\n",
              "        [0.8740],\n",
              "        [0.8880],\n",
              "        [0.9020],\n",
              "        [0.9160],\n",
              "        [0.9300],\n",
              "        [0.9440],\n",
              "        [0.9580],\n",
              "        [0.9720],\n",
              "        [0.9860]])"
            ]
          },
          "metadata": {},
          "execution_count": 158
        }
      ]
    },
    {
      "cell_type": "code",
      "source": [
        "plot_predictions(predictions=y_preds)"
      ],
      "metadata": {
        "colab": {
          "base_uri": "https://localhost:8080/",
          "height": 428
        },
        "id": "wbEBWo_aX8UV",
        "outputId": "ff22000f-8259-451d-e07d-67d9733452df"
      },
      "execution_count": null,
      "outputs": [
        {
          "output_type": "display_data",
          "data": {
            "text/plain": [
              "<Figure size 720x504 with 1 Axes>"
            ],
            "image/png": "[encoded data removed]"
          },
          "metadata": {
            "needs_background": "light"
          }
        }
      ]
    },
    {
      "cell_type": "code",
      "source": [
        "## 3. Train model\n",
        "\n",
        "list(model_0.parameters())"
      ],
      "metadata": {
        "colab": {
          "base_uri": "https://localhost:8080/"
        },
        "id": "LV_P8nVoZ1de",
        "outputId": "ba86b1a0-e79b-42fa-dd8a-f6318f47586e"
      },
      "execution_count": null,
      "outputs": [
        {
          "output_type": "execute_result",
          "data": {
            "text/plain": [
              "[Parameter containing:\n",
              " tensor([0.8823], requires_grad=True), Parameter containing:\n",
              " tensor([-0.6382], requires_grad=True)]"
            ]
          },
          "metadata": {},
          "execution_count": 160
        }
      ]
    },
    {
      "cell_type": "code",
      "source": [
        "#check out model's parameters\n",
        "model_0.state_dict()"
      ],
      "metadata": {
        "colab": {
          "base_uri": "https://localhost:8080/"
        },
        "id": "NEsppzgYbp6X",
        "outputId": "e8d53887-4d6d-41c5-8c55-ade0b882bcf0"
      },
      "execution_count": null,
      "outputs": [
        {
          "output_type": "execute_result",
          "data": {
            "text/plain": [
              "OrderedDict([('weights', tensor([0.8823])), ('bias', tensor([-0.6382]))])"
            ]
          },
          "metadata": {},
          "execution_count": 161
        }
      ]
    },
    {
      "cell_type": "code",
      "source": [
        "#setup a loss function\n",
        "loss_fn = nn.L1Loss()\n",
        "\n",
        "#setup an optimizer\n",
        "optimizer = torch.optim.SGD(params=model_0.parameters(), lr=0.01)"
      ],
      "metadata": {
        "id": "ZcEhKhHCdUDl"
      },
      "execution_count": null,
      "outputs": []
    },
    {
      "cell_type": "code",
      "source": [
        "list(model_0.parameters())"
      ],
      "metadata": {
        "colab": {
          "base_uri": "https://localhost:8080/"
        },
        "id": "aucuXLx-KDiF",
        "outputId": "180c258b-2fc5-41ce-d127-bca2754671cf"
      },
      "execution_count": null,
      "outputs": [
        {
          "output_type": "execute_result",
          "data": {
            "text/plain": [
              "[Parameter containing:\n",
              " tensor([0.8823], requires_grad=True), Parameter containing:\n",
              " tensor([-0.6382], requires_grad=True)]"
            ]
          },
          "metadata": {},
          "execution_count": 163
        }
      ]
    },
    {
      "cell_type": "code",
      "source": [
        "torch.manual_seed(42)\n",
        "\n",
        "epochs = 200\n",
        "\n",
        "epoch_count = []\n",
        "loss_values = []\n",
        "test_loss_values = []\n",
        "\n",
        "#Training\n",
        "for epoch in range(epochs):\n",
        "  model_0.train() #training mode\n",
        "\n",
        "  #1forward pass\n",
        "  y_pred = model_0(X_train)\n",
        "\n",
        "  #2calc loss\n",
        "  loss = loss_fn(y_pred, y_train)#input1st target 2nd\n",
        "  print(f\"Loss: {loss}\")\n",
        "\n",
        "  #3optimizer zero grad\n",
        "  optimizer.zero_grad()\n",
        "\n",
        "  #4performback prop on the loss with respoct to parameters of the model\n",
        "  loss.backward()\n",
        "\n",
        "  #5Step the optimizer\n",
        "  optimizer.step()\n",
        "\n",
        "  #testing\n",
        "  model_0.eval() #testing mode\n",
        "  with torch.inference_mode(): #turns off gradient tracking\n",
        "  #with torch.no_grad():\n",
        "    #1forwardpass\n",
        "    test_pred = model_0(X_test)\n",
        "\n",
        "    #2Calc Loss\n",
        "    test_loss = loss_fn(test_pred, y_test)\n",
        "  if epoch % 10 == 0:\n",
        "    epoch_count.append(epoch)\n",
        "    loss_values.append(loss_values)\n",
        "    test_loss_values.append(test_loss)\n",
        "    print(f\"Epoch: {epoch} | Test: {loss} | Test loss: {test_loss}\")\n",
        "  \n",
        "\n",
        "  \n",
        "\n",
        "  print(model_0.state_dict())"
      ],
      "metadata": {
        "id": "dnfVp9q7JxM8",
        "colab": {
          "base_uri": "https://localhost:8080/"
        },
        "outputId": "2d295ff8-6b46-4203-fa70-a87d99089ee2"
      },
      "execution_count": null,
      "outputs": [
        {
          "output_type": "stream",
          "name": "stdout",
          "text": [
            "Loss: 0.8670692443847656\n",
            "Epoch: 0 | Test: 0.8670692443847656 | Test loss: 0.7624635696411133\n",
            "OrderedDict([('weights', tensor([0.8862])), ('bias', tensor([-0.6282]))])\n",
            "Loss: 0.8555482625961304\n",
            "OrderedDict([('weights', tensor([0.8901])), ('bias', tensor([-0.6182]))])\n",
            "Loss: 0.8440272212028503\n",
            "OrderedDict([('weights', tensor([0.8940])), ('bias', tensor([-0.6082]))])\n",
            "Loss: 0.8325062990188599\n",
            "OrderedDict([('weights', tensor([0.8979])), ('bias', tensor([-0.5982]))])\n",
            "Loss: 0.8209851384162903\n",
            "OrderedDict([('weights', tensor([0.9018])), ('bias', tensor([-0.5882]))])\n",
            "Loss: 0.8094642758369446\n",
            "OrderedDict([('weights', tensor([0.9057])), ('bias', tensor([-0.5782]))])\n",
            "Loss: 0.7979432940483093\n",
            "OrderedDict([('weights', tensor([0.9096])), ('bias', tensor([-0.5682]))])\n",
            "Loss: 0.7864223122596741\n",
            "OrderedDict([('weights', tensor([0.9135])), ('bias', tensor([-0.5582]))])\n",
            "Loss: 0.7749012112617493\n",
            "OrderedDict([('weights', tensor([0.9174])), ('bias', tensor([-0.5482]))])\n",
            "Loss: 0.7633803486824036\n",
            "OrderedDict([('weights', tensor([0.9213])), ('bias', tensor([-0.5382]))])\n",
            "Loss: 0.7518593072891235\n",
            "Epoch: 10 | Test: 0.7518593072891235 | Test loss: 0.6277537941932678\n",
            "OrderedDict([('weights', tensor([0.9252])), ('bias', tensor([-0.5282]))])\n",
            "Loss: 0.7403382658958435\n",
            "OrderedDict([('weights', tensor([0.9291])), ('bias', tensor([-0.5182]))])\n",
            "Loss: 0.7288174033164978\n",
            "OrderedDict([('weights', tensor([0.9330])), ('bias', tensor([-0.5082]))])\n",
            "Loss: 0.7172963619232178\n",
            "OrderedDict([('weights', tensor([0.9369])), ('bias', tensor([-0.4982]))])\n",
            "Loss: 0.7057753801345825\n",
            "OrderedDict([('weights', tensor([0.9408])), ('bias', tensor([-0.4882]))])\n",
            "Loss: 0.6942543983459473\n",
            "OrderedDict([('weights', tensor([0.9447])), ('bias', tensor([-0.4782]))])\n",
            "Loss: 0.6827333569526672\n",
            "OrderedDict([('weights', tensor([0.9486])), ('bias', tensor([-0.4682]))])\n",
            "Loss: 0.671212375164032\n",
            "OrderedDict([('weights', tensor([0.9525])), ('bias', tensor([-0.4582]))])\n",
            "Loss: 0.6596913933753967\n",
            "OrderedDict([('weights', tensor([0.9564])), ('bias', tensor([-0.4482]))])\n",
            "Loss: 0.6481704115867615\n",
            "OrderedDict([('weights', tensor([0.9603])), ('bias', tensor([-0.4382]))])\n",
            "Loss: 0.636649489402771\n",
            "Epoch: 20 | Test: 0.636649489402771 | Test loss: 0.4930438995361328\n",
            "OrderedDict([('weights', tensor([0.9642])), ('bias', tensor([-0.4282]))])\n",
            "Loss: 0.6251285672187805\n",
            "OrderedDict([('weights', tensor([0.9681])), ('bias', tensor([-0.4182]))])\n",
            "Loss: 0.6136075258255005\n",
            "OrderedDict([('weights', tensor([0.9720])), ('bias', tensor([-0.4082]))])\n",
            "Loss: 0.6020864844322205\n",
            "OrderedDict([('weights', tensor([0.9759])), ('bias', tensor([-0.3982]))])\n",
            "Loss: 0.5905655026435852\n",
            "OrderedDict([('weights', tensor([0.9798])), ('bias', tensor([-0.3882]))])\n",
            "Loss: 0.57904452085495\n",
            "OrderedDict([('weights', tensor([0.9837])), ('bias', tensor([-0.3782]))])\n",
            "Loss: 0.5675235986709595\n",
            "OrderedDict([('weights', tensor([0.9876])), ('bias', tensor([-0.3682]))])\n",
            "Loss: 0.5560025572776794\n",
            "OrderedDict([('weights', tensor([0.9915])), ('bias', tensor([-0.3582]))])\n",
            "Loss: 0.5444815754890442\n",
            "OrderedDict([('weights', tensor([0.9954])), ('bias', tensor([-0.3482]))])\n",
            "Loss: 0.5329605937004089\n",
            "OrderedDict([('weights', tensor([0.9993])), ('bias', tensor([-0.3382]))])\n",
            "Loss: 0.5214395523071289\n",
            "Epoch: 30 | Test: 0.5214395523071289 | Test loss: 0.3583340346813202\n",
            "OrderedDict([('weights', tensor([1.0032])), ('bias', tensor([-0.3282]))])\n",
            "Loss: 0.5099185705184937\n",
            "OrderedDict([('weights', tensor([1.0071])), ('bias', tensor([-0.3182]))])\n",
            "Loss: 0.4983975887298584\n",
            "OrderedDict([('weights', tensor([1.0110])), ('bias', tensor([-0.3082]))])\n",
            "Loss: 0.48687654733657837\n",
            "OrderedDict([('weights', tensor([1.0149])), ('bias', tensor([-0.2982]))])\n",
            "Loss: 0.4753555655479431\n",
            "OrderedDict([('weights', tensor([1.0188])), ('bias', tensor([-0.2882]))])\n",
            "Loss: 0.4638345241546631\n",
            "OrderedDict([('weights', tensor([1.0227])), ('bias', tensor([-0.2782]))])\n",
            "Loss: 0.45231351256370544\n",
            "OrderedDict([('weights', tensor([1.0266])), ('bias', tensor([-0.2682]))])\n",
            "Loss: 0.4407925009727478\n",
            "OrderedDict([('weights', tensor([1.0305])), ('bias', tensor([-0.2582]))])\n",
            "Loss: 0.42927151918411255\n",
            "OrderedDict([('weights', tensor([1.0344])), ('bias', tensor([-0.2482]))])\n",
            "Loss: 0.4177505075931549\n",
            "OrderedDict([('weights', tensor([1.0383])), ('bias', tensor([-0.2382]))])\n",
            "Loss: 0.4062294363975525\n",
            "Epoch: 40 | Test: 0.4062294363975525 | Test loss: 0.2236236333847046\n",
            "OrderedDict([('weights', tensor([1.0422])), ('bias', tensor([-0.2282]))])\n",
            "Loss: 0.39470839500427246\n",
            "OrderedDict([('weights', tensor([1.0461])), ('bias', tensor([-0.2182]))])\n",
            "Loss: 0.3831874132156372\n",
            "OrderedDict([('weights', tensor([1.0500])), ('bias', tensor([-0.2082]))])\n",
            "Loss: 0.37166640162467957\n",
            "OrderedDict([('weights', tensor([1.0539])), ('bias', tensor([-0.1982]))])\n",
            "Loss: 0.3601453900337219\n",
            "OrderedDict([('weights', tensor([1.0578])), ('bias', tensor([-0.1882]))])\n",
            "Loss: 0.3486242890357971\n",
            "OrderedDict([('weights', tensor([1.0617])), ('bias', tensor([-0.1782]))])\n",
            "Loss: 0.33710330724716187\n",
            "OrderedDict([('weights', tensor([1.0656])), ('bias', tensor([-0.1682]))])\n",
            "Loss: 0.3255822956562042\n",
            "OrderedDict([('weights', tensor([1.0695])), ('bias', tensor([-0.1582]))])\n",
            "Loss: 0.3140612244606018\n",
            "OrderedDict([('weights', tensor([1.0734])), ('bias', tensor([-0.1482]))])\n",
            "Loss: 0.30254024267196655\n",
            "OrderedDict([('weights', tensor([1.0773])), ('bias', tensor([-0.1382]))])\n",
            "Loss: 0.2910192012786865\n",
            "Epoch: 50 | Test: 0.2910192012786865 | Test loss: 0.08891315013170242\n",
            "OrderedDict([('weights', tensor([1.0812])), ('bias', tensor([-0.1282]))])\n",
            "Loss: 0.2794981598854065\n",
            "OrderedDict([('weights', tensor([1.0851])), ('bias', tensor([-0.1182]))])\n",
            "Loss: 0.26797714829444885\n",
            "OrderedDict([('weights', tensor([1.0890])), ('bias', tensor([-0.1082]))])\n",
            "Loss: 0.2564561367034912\n",
            "OrderedDict([('weights', tensor([1.0929])), ('bias', tensor([-0.0982]))])\n",
            "Loss: 0.24493511021137238\n",
            "OrderedDict([('weights', tensor([1.0968])), ('bias', tensor([-0.0882]))])\n",
            "Loss: 0.23341409862041473\n",
            "OrderedDict([('weights', tensor([1.1007])), ('bias', tensor([-0.0782]))])\n",
            "Loss: 0.2218931019306183\n",
            "OrderedDict([('weights', tensor([1.1046])), ('bias', tensor([-0.0682]))])\n",
            "Loss: 0.21037206053733826\n",
            "OrderedDict([('weights', tensor([1.1085])), ('bias', tensor([-0.0582]))])\n",
            "Loss: 0.1988510638475418\n",
            "OrderedDict([('weights', tensor([1.1124])), ('bias', tensor([-0.0482]))])\n",
            "Loss: 0.18733003735542297\n",
            "OrderedDict([('weights', tensor([1.1163])), ('bias', tensor([-0.0382]))])\n",
            "Loss: 0.17580902576446533\n",
            "Epoch: 60 | Test: 0.17580902576446533 | Test loss: 0.04579734057188034\n",
            "OrderedDict([('weights', tensor([1.1202])), ('bias', tensor([-0.0282]))])\n",
            "Loss: 0.1642879843711853\n",
            "OrderedDict([('weights', tensor([1.1241])), ('bias', tensor([-0.0182]))])\n",
            "Loss: 0.15360496938228607\n",
            "OrderedDict([('weights', tensor([1.1272])), ('bias', tensor([-0.0092]))])\n",
            "Loss: 0.1448739767074585\n",
            "OrderedDict([('weights', tensor([1.1300])), ('bias', tensor([-0.0007]))])\n",
            "Loss: 0.1373489648103714\n",
            "OrderedDict([('weights', tensor([1.1320])), ('bias', tensor([0.0068]))])\n",
            "Loss: 0.1313343346118927\n",
            "OrderedDict([('weights', tensor([1.1337])), ('bias', tensor([0.0138]))])\n",
            "Loss: 0.12614698708057404\n",
            "OrderedDict([('weights', tensor([1.1351])), ('bias', tensor([0.0203]))])\n",
            "Loss: 0.12173155695199966\n",
            "OrderedDict([('weights', tensor([1.1365])), ('bias', tensor([0.0268]))])\n",
            "Loss: 0.11762575805187225\n",
            "OrderedDict([('weights', tensor([1.1375])), ('bias', tensor([0.0328]))])\n",
            "Loss: 0.11411943286657333\n",
            "OrderedDict([('weights', tensor([1.1383])), ('bias', tensor([0.0383]))])\n",
            "Loss: 0.11110417544841766\n",
            "Epoch: 70 | Test: 0.11110417544841766 | Test loss: 0.13382463157176971\n",
            "OrderedDict([('weights', tensor([1.1387])), ('bias', tensor([0.0433]))])\n",
            "Loss: 0.10858394205570221\n",
            "OrderedDict([('weights', tensor([1.1392])), ('bias', tensor([0.0483]))])\n",
            "Loss: 0.10621748119592667\n",
            "OrderedDict([('weights', tensor([1.1394])), ('bias', tensor([0.0528]))])\n",
            "Loss: 0.104189932346344\n",
            "OrderedDict([('weights', tensor([1.1395])), ('bias', tensor([0.0573]))])\n",
            "Loss: 0.10233594477176666\n",
            "OrderedDict([('weights', tensor([1.1394])), ('bias', tensor([0.0613]))])\n",
            "Loss: 0.10073449462652206\n",
            "OrderedDict([('weights', tensor([1.1393])), ('bias', tensor([0.0653]))])\n",
            "Loss: 0.09926063567399979\n",
            "OrderedDict([('weights', tensor([1.1389])), ('bias', tensor([0.0688]))])\n",
            "Loss: 0.09802041947841644\n",
            "OrderedDict([('weights', tensor([1.1385])), ('bias', tensor([0.0723]))])\n",
            "Loss: 0.09679824113845825\n",
            "OrderedDict([('weights', tensor([1.1378])), ('bias', tensor([0.0753]))])\n",
            "Loss: 0.09585598111152649\n",
            "OrderedDict([('weights', tensor([1.1372])), ('bias', tensor([0.0783]))])\n",
            "Loss: 0.09491372108459473\n",
            "Epoch: 80 | Test: 0.09491372108459473 | Test loss: 0.16986632347106934\n",
            "OrderedDict([('weights', tensor([1.1365])), ('bias', tensor([0.0813]))])\n",
            "Loss: 0.09397147595882416\n",
            "OrderedDict([('weights', tensor([1.1359])), ('bias', tensor([0.0843]))])\n",
            "Loss: 0.0931437537074089\n",
            "OrderedDict([('weights', tensor([1.1350])), ('bias', tensor([0.0868]))])\n",
            "Loss: 0.092437744140625\n",
            "OrderedDict([('weights', tensor([1.1341])), ('bias', tensor([0.0893]))])\n",
            "Loss: 0.09173174202442169\n",
            "OrderedDict([('weights', tensor([1.1332])), ('bias', tensor([0.0918]))])\n",
            "Loss: 0.09102573990821838\n",
            "OrderedDict([('weights', tensor([1.1323])), ('bias', tensor([0.0943]))])\n",
            "Loss: 0.09041197597980499\n",
            "OrderedDict([('weights', tensor([1.1312])), ('bias', tensor([0.0963]))])\n",
            "Loss: 0.089882031083107\n",
            "OrderedDict([('weights', tensor([1.1300])), ('bias', tensor([0.0983]))])\n",
            "Loss: 0.08935205638408661\n",
            "OrderedDict([('weights', tensor([1.1289])), ('bias', tensor([0.1003]))])\n",
            "Loss: 0.08882209658622742\n",
            "OrderedDict([('weights', tensor([1.1277])), ('bias', tensor([0.1023]))])\n",
            "Loss: 0.08829215168952942\n",
            "Epoch: 90 | Test: 0.08829215168952942 | Test loss: 0.18401066958904266\n",
            "OrderedDict([('weights', tensor([1.1266])), ('bias', tensor([0.1043]))])\n",
            "Loss: 0.08779103308916092\n",
            "OrderedDict([('weights', tensor([1.1252])), ('bias', tensor([0.1058]))])\n",
            "Loss: 0.08737834542989731\n",
            "OrderedDict([('weights', tensor([1.1239])), ('bias', tensor([0.1073]))])\n",
            "Loss: 0.0869656577706337\n",
            "OrderedDict([('weights', tensor([1.1225])), ('bias', tensor([0.1088]))])\n",
            "Loss: 0.08655298501253128\n",
            "OrderedDict([('weights', tensor([1.1211])), ('bias', tensor([0.1103]))])\n",
            "Loss: 0.08614029735326767\n",
            "OrderedDict([('weights', tensor([1.1197])), ('bias', tensor([0.1118]))])\n",
            "Loss: 0.08572760969400406\n",
            "OrderedDict([('weights', tensor([1.1184])), ('bias', tensor([0.1133]))])\n",
            "Loss: 0.08531491458415985\n",
            "OrderedDict([('weights', tensor([1.1170])), ('bias', tensor([0.1148]))])\n",
            "Loss: 0.08490224182605743\n",
            "OrderedDict([('weights', tensor([1.1156])), ('bias', tensor([0.1163]))])\n",
            "Loss: 0.08448956161737442\n",
            "OrderedDict([('weights', tensor([1.1143])), ('bias', tensor([0.1178]))])\n",
            "Loss: 0.08408287912607193\n",
            "Epoch: 100 | Test: 0.08408287912607193 | Test loss: 0.18612226843833923\n",
            "OrderedDict([('weights', tensor([1.1127])), ('bias', tensor([0.1188]))])\n",
            "Loss: 0.0837300568819046\n",
            "OrderedDict([('weights', tensor([1.1111])), ('bias', tensor([0.1198]))])\n",
            "Loss: 0.08337725698947906\n",
            "OrderedDict([('weights', tensor([1.1095])), ('bias', tensor([0.1208]))])\n",
            "Loss: 0.08302444964647293\n",
            "OrderedDict([('weights', tensor([1.1079])), ('bias', tensor([0.1218]))])\n",
            "Loss: 0.0826716274023056\n",
            "OrderedDict([('weights', tensor([1.1063])), ('bias', tensor([0.1228]))])\n",
            "Loss: 0.08231880515813828\n",
            "OrderedDict([('weights', tensor([1.1047])), ('bias', tensor([0.1238]))])\n",
            "Loss: 0.08196600526571274\n",
            "OrderedDict([('weights', tensor([1.1031])), ('bias', tensor([0.1248]))])\n",
            "Loss: 0.0816131979227066\n",
            "OrderedDict([('weights', tensor([1.1015])), ('bias', tensor([0.1258]))])\n",
            "Loss: 0.08126038312911987\n",
            "OrderedDict([('weights', tensor([1.1000])), ('bias', tensor([0.1268]))])\n",
            "Loss: 0.08090756833553314\n",
            "OrderedDict([('weights', tensor([1.0984])), ('bias', tensor([0.1278]))])\n",
            "Loss: 0.08055473864078522\n",
            "Epoch: 110 | Test: 0.08055473864078522 | Test loss: 0.18197114765644073\n",
            "OrderedDict([('weights', tensor([1.0968])), ('bias', tensor([0.1288]))])\n",
            "Loss: 0.08020195364952087\n",
            "OrderedDict([('weights', tensor([1.0952])), ('bias', tensor([0.1298]))])\n",
            "Loss: 0.07984913140535355\n",
            "OrderedDict([('weights', tensor([1.0936])), ('bias', tensor([0.1308]))])\n",
            "Loss: 0.07949630916118622\n",
            "OrderedDict([('weights', tensor([1.0920])), ('bias', tensor([0.1318]))])\n",
            "Loss: 0.07914350926876068\n",
            "OrderedDict([('weights', tensor([1.0904])), ('bias', tensor([0.1328]))])\n",
            "Loss: 0.07879067957401276\n",
            "OrderedDict([('weights', tensor([1.0888])), ('bias', tensor([0.1338]))])\n",
            "Loss: 0.07843787968158722\n",
            "OrderedDict([('weights', tensor([1.0872])), ('bias', tensor([0.1348]))])\n",
            "Loss: 0.07808506488800049\n",
            "OrderedDict([('weights', tensor([1.0856])), ('bias', tensor([0.1358]))])\n",
            "Loss: 0.07773225754499435\n",
            "OrderedDict([('weights', tensor([1.0841])), ('bias', tensor([0.1368]))])\n",
            "Loss: 0.07737945020198822\n",
            "OrderedDict([('weights', tensor([1.0825])), ('bias', tensor([0.1378]))])\n",
            "Loss: 0.07702663540840149\n",
            "Epoch: 120 | Test: 0.07702663540840149 | Test loss: 0.177820086479187\n",
            "OrderedDict([('weights', tensor([1.0809])), ('bias', tensor([0.1388]))])\n",
            "Loss: 0.07667382061481476\n",
            "OrderedDict([('weights', tensor([1.0793])), ('bias', tensor([0.1398]))])\n",
            "Loss: 0.07632099837064743\n",
            "OrderedDict([('weights', tensor([1.0777])), ('bias', tensor([0.1408]))])\n",
            "Loss: 0.0759681984782219\n",
            "OrderedDict([('weights', tensor([1.0761])), ('bias', tensor([0.1418]))])\n",
            "Loss: 0.07561538368463516\n",
            "OrderedDict([('weights', tensor([1.0745])), ('bias', tensor([0.1428]))])\n",
            "Loss: 0.07526955753564835\n",
            "OrderedDict([('weights', tensor([1.0727])), ('bias', tensor([0.1433]))])\n",
            "Loss: 0.07492638379335403\n",
            "OrderedDict([('weights', tensor([1.0711])), ('bias', tensor([0.1443]))])\n",
            "Loss: 0.07458437234163284\n",
            "OrderedDict([('weights', tensor([1.0693])), ('bias', tensor([0.1448]))])\n",
            "Loss: 0.07423736900091171\n",
            "OrderedDict([('weights', tensor([1.0677])), ('bias', tensor([0.1458]))])\n",
            "Loss: 0.07389918714761734\n",
            "OrderedDict([('weights', tensor([1.0659])), ('bias', tensor([0.1463]))])\n",
            "Loss: 0.07355017960071564\n",
            "Epoch: 130 | Test: 0.07355017960071564 | Test loss: 0.17092156410217285\n",
            "OrderedDict([('weights', tensor([1.0641])), ('bias', tensor([0.1468]))])\n",
            "Loss: 0.07321219146251678\n",
            "OrderedDict([('weights', tensor([1.0625])), ('bias', tensor([0.1478]))])\n",
            "Loss: 0.07286499440670013\n",
            "OrderedDict([('weights', tensor([1.0607])), ('bias', tensor([0.1483]))])\n",
            "Loss: 0.07252318412065506\n",
            "OrderedDict([('weights', tensor([1.0592])), ('bias', tensor([0.1493]))])\n",
            "Loss: 0.07217980921268463\n",
            "OrderedDict([('weights', tensor([1.0574])), ('bias', tensor([0.1498]))])\n",
            "Loss: 0.07183416932821274\n",
            "OrderedDict([('weights', tensor([1.0558])), ('bias', tensor([0.1508]))])\n",
            "Loss: 0.07149460911750793\n",
            "OrderedDict([('weights', tensor([1.0540])), ('bias', tensor([0.1513]))])\n",
            "Loss: 0.07114563137292862\n",
            "OrderedDict([('weights', tensor([1.0522])), ('bias', tensor([0.1518]))])\n",
            "Loss: 0.07080899178981781\n",
            "OrderedDict([('weights', tensor([1.0506])), ('bias', tensor([0.1528]))])\n",
            "Loss: 0.07046043127775192\n",
            "OrderedDict([('weights', tensor([1.0488])), ('bias', tensor([0.1533]))])\n",
            "Loss: 0.07011997699737549\n",
            "Epoch: 140 | Test: 0.07011997699737549 | Test loss: 0.16333624720573425\n",
            "OrderedDict([('weights', tensor([1.0472])), ('bias', tensor([0.1543]))])\n",
            "Loss: 0.06977524608373642\n",
            "OrderedDict([('weights', tensor([1.0454])), ('bias', tensor([0.1548]))])\n",
            "Loss: 0.06943098455667496\n",
            "OrderedDict([('weights', tensor([1.0438])), ('bias', tensor([0.1558]))])\n",
            "Loss: 0.06909003853797913\n",
            "OrderedDict([('weights', tensor([1.0420])), ('bias', tensor([0.1563]))])\n",
            "Loss: 0.06874199211597443\n",
            "OrderedDict([('weights', tensor([1.0404])), ('bias', tensor([0.1573]))])\n",
            "Loss: 0.06840485334396362\n",
            "OrderedDict([('weights', tensor([1.0386])), ('bias', tensor([0.1578]))])\n",
            "Loss: 0.06805586069822311\n",
            "OrderedDict([('weights', tensor([1.0368])), ('bias', tensor([0.1583]))])\n",
            "Loss: 0.06771679222583771\n",
            "OrderedDict([('weights', tensor([1.0352])), ('bias', tensor([0.1593]))])\n",
            "Loss: 0.06737067550420761\n",
            "OrderedDict([('weights', tensor([1.0334])), ('bias', tensor([0.1598]))])\n",
            "Loss: 0.06702778488397598\n",
            "OrderedDict([('weights', tensor([1.0318])), ('bias', tensor([0.1608]))])\n",
            "Loss: 0.06668548285961151\n",
            "Epoch: 150 | Test: 0.06668548285961151 | Test loss: 0.15506410598754883\n",
            "OrderedDict([('weights', tensor([1.0300])), ('bias', tensor([0.1613]))])\n",
            "Loss: 0.06633878499269485\n",
            "OrderedDict([('weights', tensor([1.0284])), ('bias', tensor([0.1623]))])\n",
            "Loss: 0.06600029766559601\n",
            "OrderedDict([('weights', tensor([1.0266])), ('bias', tensor([0.1628]))])\n",
            "Loss: 0.0656513050198555\n",
            "OrderedDict([('weights', tensor([1.0248])), ('bias', tensor([0.1633]))])\n",
            "Loss: 0.06531360000371933\n",
            "OrderedDict([('weights', tensor([1.0232])), ('bias', tensor([0.1643]))])\n",
            "Loss: 0.0649661123752594\n",
            "OrderedDict([('weights', tensor([1.0214])), ('bias', tensor([0.1648]))])\n",
            "Loss: 0.0646245926618576\n",
            "OrderedDict([('weights', tensor([1.0199])), ('bias', tensor([0.1658]))])\n",
            "Loss: 0.0642809271812439\n",
            "OrderedDict([('weights', tensor([1.0181])), ('bias', tensor([0.1663]))])\n",
            "Loss: 0.06393558531999588\n",
            "OrderedDict([('weights', tensor([1.0165])), ('bias', tensor([0.1673]))])\n",
            "Loss: 0.0635957270860672\n",
            "OrderedDict([('weights', tensor([1.0147])), ('bias', tensor([0.1678]))])\n",
            "Loss: 0.06324674189090729\n",
            "Epoch: 160 | Test: 0.06324674189090729 | Test loss: 0.14679193496704102\n",
            "OrderedDict([('weights', tensor([1.0129])), ('bias', tensor([0.1683]))])\n",
            "Loss: 0.06291039288043976\n",
            "OrderedDict([('weights', tensor([1.0113])), ('bias', tensor([0.1693]))])\n",
            "Loss: 0.06256155669689178\n",
            "OrderedDict([('weights', tensor([1.0095])), ('bias', tensor([0.1698]))])\n",
            "Loss: 0.06222138553857803\n",
            "OrderedDict([('weights', tensor([1.0079])), ('bias', tensor([0.1708]))])\n",
            "Loss: 0.06187635660171509\n",
            "OrderedDict([('weights', tensor([1.0061])), ('bias', tensor([0.1713]))])\n",
            "Loss: 0.061532389372587204\n",
            "OrderedDict([('weights', tensor([1.0045])), ('bias', tensor([0.1723]))])\n",
            "Loss: 0.06119115278124809\n",
            "OrderedDict([('weights', tensor([1.0027])), ('bias', tensor([0.1728]))])\n",
            "Loss: 0.060843389481306076\n",
            "OrderedDict([('weights', tensor([1.0011])), ('bias', tensor([0.1738]))])\n",
            "Loss: 0.06050597503781319\n",
            "OrderedDict([('weights', tensor([0.9993])), ('bias', tensor([0.1743]))])\n",
            "Loss: 0.06015697121620178\n",
            "OrderedDict([('weights', tensor([0.9975])), ('bias', tensor([0.1748]))])\n",
            "Loss: 0.05981817841529846\n",
            "Epoch: 170 | Test: 0.05981817841529846 | Test loss: 0.13920652866363525\n",
            "OrderedDict([('weights', tensor([0.9959])), ('bias', tensor([0.1758]))])\n",
            "Loss: 0.05947176367044449\n",
            "OrderedDict([('weights', tensor([0.9941])), ('bias', tensor([0.1763]))])\n",
            "Loss: 0.05912916734814644\n",
            "OrderedDict([('weights', tensor([0.9925])), ('bias', tensor([0.1773]))])\n",
            "Loss: 0.05878656357526779\n",
            "OrderedDict([('weights', tensor([0.9907])), ('bias', tensor([0.1778]))])\n",
            "Loss: 0.05844014883041382\n",
            "OrderedDict([('weights', tensor([0.9891])), ('bias', tensor([0.1788]))])\n",
            "Loss: 0.05810137465596199\n",
            "OrderedDict([('weights', tensor([0.9873])), ('bias', tensor([0.1793]))])\n",
            "Loss: 0.05775235965847969\n",
            "OrderedDict([('weights', tensor([0.9855])), ('bias', tensor([0.1798]))])\n",
            "Loss: 0.0574149414896965\n",
            "OrderedDict([('weights', tensor([0.9839])), ('bias', tensor([0.1808]))])\n",
            "Loss: 0.05706716701388359\n",
            "OrderedDict([('weights', tensor([0.9821])), ('bias', tensor([0.1813]))])\n",
            "Loss: 0.056725919246673584\n",
            "OrderedDict([('weights', tensor([0.9806])), ('bias', tensor([0.1823]))])\n",
            "Loss: 0.05638197064399719\n",
            "Epoch: 180 | Test: 0.05638197064399719 | Test loss: 0.13093404471874237\n",
            "OrderedDict([('weights', tensor([0.9788])), ('bias', tensor([0.1828]))])\n",
            "Loss: 0.05603691190481186\n",
            "OrderedDict([('weights', tensor([0.9772])), ('bias', tensor([0.1838]))])\n",
            "Loss: 0.0556967630982399\n",
            "OrderedDict([('weights', tensor([0.9754])), ('bias', tensor([0.1843]))])\n",
            "Loss: 0.05534790828824043\n",
            "OrderedDict([('weights', tensor([0.9738])), ('bias', tensor([0.1853]))])\n",
            "Loss: 0.0550115592777729\n",
            "OrderedDict([('weights', tensor([0.9720])), ('bias', tensor([0.1858]))])\n",
            "Loss: 0.054662566632032394\n",
            "OrderedDict([('weights', tensor([0.9702])), ('bias', tensor([0.1863]))])\n",
            "Loss: 0.05432268977165222\n",
            "OrderedDict([('weights', tensor([0.9686])), ('bias', tensor([0.1873]))])\n",
            "Loss: 0.053977370262145996\n",
            "OrderedDict([('weights', tensor([0.9668])), ('bias', tensor([0.1878]))])\n",
            "Loss: 0.0536336787045002\n",
            "OrderedDict([('weights', tensor([0.9652])), ('bias', tensor([0.1888]))])\n",
            "Loss: 0.05329214408993721\n",
            "OrderedDict([('weights', tensor([0.9634])), ('bias', tensor([0.1893]))])\n",
            "Loss: 0.052944671362638474\n",
            "Epoch: 190 | Test: 0.052944671362638474 | Test loss: 0.12334845215082169\n",
            "OrderedDict([('weights', tensor([0.9618])), ('bias', tensor([0.1903]))])\n",
            "Loss: 0.05260695144534111\n",
            "OrderedDict([('weights', tensor([0.9600])), ('bias', tensor([0.1908]))])\n",
            "Loss: 0.0522579550743103\n",
            "OrderedDict([('weights', tensor([0.9582])), ('bias', tensor([0.1913]))])\n",
            "Loss: 0.05191946029663086\n",
            "OrderedDict([('weights', tensor([0.9566])), ('bias', tensor([0.1923]))])\n",
            "Loss: 0.05157274752855301\n",
            "OrderedDict([('weights', tensor([0.9548])), ('bias', tensor([0.1928]))])\n",
            "Loss: 0.051230452954769135\n",
            "OrderedDict([('weights', tensor([0.9532])), ('bias', tensor([0.1938]))])\n",
            "Loss: 0.05088754743337631\n",
            "OrderedDict([('weights', tensor([0.9514])), ('bias', tensor([0.1943]))])\n",
            "Loss: 0.05054142326116562\n",
            "OrderedDict([('weights', tensor([0.9498])), ('bias', tensor([0.1953]))])\n",
            "Loss: 0.050202351063489914\n",
            "OrderedDict([('weights', tensor([0.9480])), ('bias', tensor([0.1958]))])\n",
            "Loss: 0.04985333979129791\n",
            "OrderedDict([('weights', tensor([0.9462])), ('bias', tensor([0.1963]))])\n"
          ]
        }
      ]
    },
    {
      "cell_type": "code",
      "source": [
        "import numpy as np\n",
        "#np.array(torch.tensor(loss_values).numpy()), test_loss_values"
      ],
      "metadata": {
        "id": "d8cX4JukENvd"
      },
      "execution_count": null,
      "outputs": []
    },
    {
      "cell_type": "code",
      "source": [
        "#Plot the loss curves\n",
        "#plt.plot(epoch_count, loss_values, label=\"Train loss\")\n",
        "#plt.plot(epoch_count, test_loss_values, label=\"Test loss\")\n",
        "#plt.title(\"training and test loss curves\")\n",
        "#plt.ylabel(\"Loss\")\n",
        "#plt.xlabel(\"Epochs\")\n",
        "#plt.legend();"
      ],
      "metadata": {
        "id": "xkcoUJSrDccc"
      },
      "execution_count": null,
      "outputs": []
    },
    {
      "cell_type": "code",
      "source": [
        "with torch.inference_mode():\n",
        "  y_preds_new = model_0(X_test)"
      ],
      "metadata": {
        "id": "VHQhWreZcOPR"
      },
      "execution_count": null,
      "outputs": []
    },
    {
      "cell_type": "code",
      "source": [
        "model_0.state_dict()"
      ],
      "metadata": {
        "colab": {
          "base_uri": "https://localhost:8080/"
        },
        "id": "zGwSLwBDaDrf",
        "outputId": "fb5744ff-d5f3-458d-dc30-7074655907bf"
      },
      "execution_count": null,
      "outputs": [
        {
          "output_type": "execute_result",
          "data": {
            "text/plain": [
              "OrderedDict([('weights', tensor([0.9462])), ('bias', tensor([0.1963]))])"
            ]
          },
          "metadata": {},
          "execution_count": 168
        }
      ]
    },
    {
      "cell_type": "code",
      "source": [
        "weight, bias"
      ],
      "metadata": {
        "colab": {
          "base_uri": "https://localhost:8080/"
        },
        "id": "XrFwvmoYa4_8",
        "outputId": "0c6aa49f-880f-4656-a2aa-44be73f0ddaf"
      },
      "execution_count": null,
      "outputs": [
        {
          "output_type": "execute_result",
          "data": {
            "text/plain": [
              "(0.7, 0.3)"
            ]
          },
          "metadata": {},
          "execution_count": 169
        }
      ]
    },
    {
      "cell_type": "code",
      "source": [
        "plot_predictions(predictions=y_preds)"
      ],
      "metadata": {
        "colab": {
          "base_uri": "https://localhost:8080/",
          "height": 428
        },
        "id": "bWhDCivgcW1l",
        "outputId": "ca21be7f-bc11-414f-e3bc-972a91e874cd"
      },
      "execution_count": null,
      "outputs": [
        {
          "output_type": "display_data",
          "data": {
            "text/plain": [
              "<Figure size 720x504 with 1 Axes>"
            ],
            "image/png": "[encoded data removed]"
          },
          "metadata": {
            "needs_background": "light"
          }
        }
      ]
    },
    {
      "cell_type": "code",
      "source": [
        "plot_predictions(predictions=y_preds_new)"
      ],
      "metadata": {
        "colab": {
          "base_uri": "https://localhost:8080/",
          "height": 428
        },
        "id": "lrDVqE17cnQh",
        "outputId": "461101a8-b384-4224-8d0e-0dd8dc58468d"
      },
      "execution_count": null,
      "outputs": [
        {
          "output_type": "display_data",
          "data": {
            "text/plain": [
              "<Figure size 720x504 with 1 Axes>"
            ],
            "image/png": "[encoded data removed]"
          },
          "metadata": {
            "needs_background": "light"
          }
        }
      ]
    },
    {
      "cell_type": "code",
      "source": [
        "#Saving model\n",
        "from pathlib import Path\n",
        "\n",
        "MODEL_PATH = Path(\"models\")\n",
        "MODEL_PATH.mkdir(parents=True, exist_ok=True)\n",
        "\n",
        "MODEL_NAME = \"01_pytorch_workflow_model_0.pth\"\n",
        "MODEL_SAVE_PATH = MODEL_PATH / MODEL_NAME\n",
        "\n",
        "MODEL_SAVE_PATH\n",
        "\n",
        "print(f\"Saving model to: {MODEL_SAVE_PATH}\")\n",
        "torch.save(obj=model_0.state_dict(), f=MODEL_SAVE_PATH)"
      ],
      "metadata": {
        "colab": {
          "base_uri": "https://localhost:8080/"
        },
        "id": "eltn3si7WflI",
        "outputId": "2af733fb-6f40-41ae-b066-207585778477"
      },
      "execution_count": null,
      "outputs": [
        {
          "output_type": "stream",
          "name": "stdout",
          "text": [
            "Saving model to: models/01_pytorch_workflow_model_0.pth\n"
          ]
        }
      ]
    },
    {
      "cell_type": "code",
      "source": [
        "!ls -l models"
      ],
      "metadata": {
        "colab": {
          "base_uri": "https://localhost:8080/"
        },
        "id": "QOXV2K-CX_lt",
        "outputId": "19934ea9-ffa4-484a-e2d2-b2e20ddf8802"
      },
      "execution_count": null,
      "outputs": [
        {
          "output_type": "stream",
          "name": "stdout",
          "text": [
            "total 4\n",
            "-rw-r--r-- 1 root root 1207 Dec 16 14:38 01_pytorch_workflow_model_0.pth\n"
          ]
        }
      ]
    },
    {
      "cell_type": "code",
      "source": [
        "model_0.state_dict()"
      ],
      "metadata": {
        "colab": {
          "base_uri": "https://localhost:8080/"
        },
        "id": "meV0VLe8Y0uR",
        "outputId": "d78ae27c-feb7-41f0-c182-8b004e8b4a53"
      },
      "execution_count": null,
      "outputs": [
        {
          "output_type": "execute_result",
          "data": {
            "text/plain": [
              "OrderedDict([('weights', tensor([0.9462])), ('bias', tensor([0.1963]))])"
            ]
          },
          "metadata": {},
          "execution_count": 181
        }
      ]
    },
    {
      "cell_type": "code",
      "source": [
        "loaded_model_0 = LinearRegressionModel()\n",
        "\n",
        "loaded_model_0.load_state_dict(torch.load(f=MODEL_SAVE_PATH))"
      ],
      "metadata": {
        "colab": {
          "base_uri": "https://localhost:8080/"
        },
        "id": "qB-D6mrKY4DX",
        "outputId": "a0c5161b-347c-43d9-ce03-56feb72f901f"
      },
      "execution_count": null,
      "outputs": [
        {
          "output_type": "execute_result",
          "data": {
            "text/plain": [
              "<All keys matched successfully>"
            ]
          },
          "metadata": {},
          "execution_count": 180
        }
      ]
    },
    {
      "cell_type": "code",
      "source": [
        "loaded_model_0.state_dict()"
      ],
      "metadata": {
        "colab": {
          "base_uri": "https://localhost:8080/"
        },
        "id": "vUkJPrlHZlFA",
        "outputId": "5a81be1c-e5ad-4149-d37b-c852dbb0699e"
      },
      "execution_count": null,
      "outputs": [
        {
          "output_type": "execute_result",
          "data": {
            "text/plain": [
              "OrderedDict([('weights', tensor([0.9462])), ('bias', tensor([0.1963]))])"
            ]
          },
          "metadata": {},
          "execution_count": 182
        }
      ]
    },
    {
      "cell_type": "code",
      "source": [
        "#Make predictions with loaded model\n",
        "loaded_model_0.eval()\n",
        "with torch.inference_mode():\n",
        "  loaded_model_preds = loaded_model_0(X_test)\n",
        "\n",
        "loaded_model_preds"
      ],
      "metadata": {
        "colab": {
          "base_uri": "https://localhost:8080/"
        },
        "id": "dqNHT6NnZtHT",
        "outputId": "555f513b-06ee-487a-a7e1-4ac79812c309"
      },
      "execution_count": null,
      "outputs": [
        {
          "output_type": "execute_result",
          "data": {
            "text/plain": [
              "tensor([[0.9533],\n",
              "        [0.9723],\n",
              "        [0.9912],\n",
              "        [1.0101],\n",
              "        [1.0290],\n",
              "        [1.0480],\n",
              "        [1.0669],\n",
              "        [1.0858],\n",
              "        [1.1047],\n",
              "        [1.1237]])"
            ]
          },
          "metadata": {},
          "execution_count": 183
        }
      ]
    },
    {
      "cell_type": "code",
      "source": [
        "#compare loaded with orignial\n",
        "y_preds == loaded_model_preds"
      ],
      "metadata": {
        "colab": {
          "base_uri": "https://localhost:8080/"
        },
        "id": "d5frutZgaAOt",
        "outputId": "de9ca155-5b80-4139-8447-3ba418c5da01"
      },
      "execution_count": null,
      "outputs": [
        {
          "output_type": "execute_result",
          "data": {
            "text/plain": [
              "tensor([[True],\n",
              "        [True],\n",
              "        [True],\n",
              "        [True],\n",
              "        [True],\n",
              "        [True],\n",
              "        [True],\n",
              "        [True],\n",
              "        [True],\n",
              "        [True]])"
            ]
          },
          "metadata": {},
          "execution_count": 186
        }
      ]
    },
    {
      "cell_type": "code",
      "source": [
        "model_0.eval()\n",
        "with torch.inference_mode():\n",
        "  y_preds = model_0(X_test)\n",
        "\n",
        "y_preds"
      ],
      "metadata": {
        "colab": {
          "base_uri": "https://localhost:8080/"
        },
        "id": "DBP0lo_FaSsh",
        "outputId": "5389230a-bf9f-44fd-8460-de980c94132d"
      },
      "execution_count": null,
      "outputs": [
        {
          "output_type": "execute_result",
          "data": {
            "text/plain": [
              "tensor([[0.9533],\n",
              "        [0.9723],\n",
              "        [0.9912],\n",
              "        [1.0101],\n",
              "        [1.0290],\n",
              "        [1.0480],\n",
              "        [1.0669],\n",
              "        [1.0858],\n",
              "        [1.1047],\n",
              "        [1.1237]])"
            ]
          },
          "metadata": {},
          "execution_count": 185
        }
      ]
    },
    {
      "cell_type": "code",
      "source": [
        "#Putting it all together\n",
        "import torch\n",
        "from torch import nn\n",
        "import matplotlib.pyplot as plt\n",
        "\n",
        "torch.__version__"
      ],
      "metadata": {
        "colab": {
          "base_uri": "https://localhost:8080/",
          "height": 35
        },
        "id": "l5rjd4Y5a9zo",
        "outputId": "ed1ff61f-384b-4d8c-99f0-8c5dd24ce035"
      },
      "execution_count": null,
      "outputs": [
        {
          "output_type": "execute_result",
          "data": {
            "text/plain": [
              "'1.13.0+cu116'"
            ],
            "application/vnd.google.colaboratory.intrinsic+json": {
              "type": "string"
            }
          },
          "metadata": {},
          "execution_count": 187
        }
      ]
    },
    {
      "cell_type": "code",
      "source": [
        "device = \"cuda\" if torch.cuda.is_available() else \"cpu\"\n",
        "print(f\"Using device: {device}\")"
      ],
      "metadata": {
        "colab": {
          "base_uri": "https://localhost:8080/"
        },
        "id": "DXeaLhw5bgYF",
        "outputId": "d990dcb9-845e-4a96-827f-e01e31927379"
      },
      "execution_count": null,
      "outputs": [
        {
          "output_type": "stream",
          "name": "stdout",
          "text": [
            "Using device: cpu\n"
          ]
        }
      ]
    },
    {
      "cell_type": "code",
      "source": [
        "!nvidia-smi"
      ],
      "metadata": {
        "colab": {
          "base_uri": "https://localhost:8080/"
        },
        "id": "ZHXHlKNucAnM",
        "outputId": "8d77f377-5d09-4283-dfc7-8017a6395120"
      },
      "execution_count": null,
      "outputs": [
        {
          "output_type": "stream",
          "name": "stdout",
          "text": [
            "NVIDIA-SMI has failed because it couldn't communicate with the NVIDIA driver. Make sure that the latest NVIDIA driver is installed and running.\n",
            "\n"
          ]
        }
      ]
    },
    {
      "cell_type": "code",
      "source": [
        "weight = 0.2\n",
        "bias = 0.3\n",
        "\n",
        "start = 0\n",
        "end = 1\n",
        "step = 0.02\n",
        "\n",
        "X = torch.arange(start, end, step).unsqueeze(dim=1)\n",
        "y = weight * X + bias\n",
        "X[:10], y[:10]"
      ],
      "metadata": {
        "colab": {
          "base_uri": "https://localhost:8080/"
        },
        "id": "2AOLUI8xcd-x",
        "outputId": "f40b6572-8215-4d12-fe56-1d05b4c94168"
      },
      "execution_count": null,
      "outputs": [
        {
          "output_type": "execute_result",
          "data": {
            "text/plain": [
              "(tensor([[0.0000],\n",
              "         [0.0200],\n",
              "         [0.0400],\n",
              "         [0.0600],\n",
              "         [0.0800],\n",
              "         [0.1000],\n",
              "         [0.1200],\n",
              "         [0.1400],\n",
              "         [0.1600],\n",
              "         [0.1800]]), tensor([[0.3000],\n",
              "         [0.3040],\n",
              "         [0.3080],\n",
              "         [0.3120],\n",
              "         [0.3160],\n",
              "         [0.3200],\n",
              "         [0.3240],\n",
              "         [0.3280],\n",
              "         [0.3320],\n",
              "         [0.3360]]))"
            ]
          },
          "metadata": {},
          "execution_count": 190
        }
      ]
    },
    {
      "cell_type": "code",
      "source": [
        "#split data\n",
        "train_split = int(0.8 * len(X))\n",
        "X_train, y_train = X[:train_split], y[:train_split]\n",
        "X_test, y_test = X[train_split:], y[train_split:]\n",
        "len(X_train), len(y_train), len(X_test), len(y_test)"
      ],
      "metadata": {
        "colab": {
          "base_uri": "https://localhost:8080/"
        },
        "id": "lehQ8txjdNRx",
        "outputId": "7615b605-71ac-4186-bf33-25b0bfd000b2"
      },
      "execution_count": null,
      "outputs": [
        {
          "output_type": "execute_result",
          "data": {
            "text/plain": [
              "(40, 40, 10, 10)"
            ]
          },
          "metadata": {},
          "execution_count": 191
        }
      ]
    },
    {
      "cell_type": "code",
      "source": [
        "#plott\n",
        "plot_predictions(X_train, y_train, X_test, y_test)"
      ],
      "metadata": {
        "colab": {
          "base_uri": "https://localhost:8080/",
          "height": 428
        },
        "id": "PrT-AE6ud2Yv",
        "outputId": "784a681e-cedf-42d0-b217-7176ef4c16c1"
      },
      "execution_count": null,
      "outputs": [
        {
          "output_type": "display_data",
          "data": {
            "text/plain": [
              "<Figure size 720x504 with 1 Axes>"
            ],
            "image/png": "[encoded data removed]"
          },
          "metadata": {
            "needs_background": "light"
          }
        }
      ]
    },
    {
      "cell_type": "code",
      "source": [
        "#create linear model by subclassing nn.Module\n",
        "class LinearRegressionModelV2(nn.Module):\n",
        "  def __init__(self):\n",
        "    super().__init__()\n",
        "    #use nn.Linear() for creating model parameters\n",
        "    self.linear_layer = nn.Linear(in_features=1, out_features=1)\n",
        "\n",
        "  def forward(self, x: torch.Tensor) -> torch.Tensor:\n",
        "    return self.linear_layer(x)\n",
        "\n",
        "#set the manual seed\n",
        "torch.manual_seed(42)\n",
        "model_1 = LinearRegressionModelV2()\n",
        "model_1, model_1.state_dict()"
      ],
      "metadata": {
        "colab": {
          "base_uri": "https://localhost:8080/"
        },
        "id": "S71z2zh5eXSZ",
        "outputId": "bdfd8d50-ede8-41fe-a594-9904625b94e6"
      },
      "execution_count": null,
      "outputs": [
        {
          "output_type": "execute_result",
          "data": {
            "text/plain": [
              "(LinearRegressionModelV2(\n",
              "   (linear_layer): Linear(in_features=1, out_features=1, bias=True)\n",
              " ),\n",
              " OrderedDict([('linear_layer.weight', tensor([[0.7645]])),\n",
              "              ('linear_layer.bias', tensor([0.8300]))]))"
            ]
          },
          "metadata": {},
          "execution_count": 214
        }
      ]
    },
    {
      "cell_type": "code",
      "source": [
        "X_train[:5], y_train[:5]"
      ],
      "metadata": {
        "colab": {
          "base_uri": "https://localhost:8080/"
        },
        "id": "ArlzCfqIfDq7",
        "outputId": "de3c967d-9f8e-4a1b-c188-b3a5bdb16f6f"
      },
      "execution_count": null,
      "outputs": [
        {
          "output_type": "execute_result",
          "data": {
            "text/plain": [
              "(tensor([[0.0000],\n",
              "         [0.0200],\n",
              "         [0.0400],\n",
              "         [0.0600],\n",
              "         [0.0800]]), tensor([[0.3000],\n",
              "         [0.3040],\n",
              "         [0.3080],\n",
              "         [0.3120],\n",
              "         [0.3160]]))"
            ]
          },
          "metadata": {},
          "execution_count": 215
        }
      ]
    },
    {
      "cell_type": "code",
      "source": [
        "#check the model current device\n",
        "next(model_1.parameters()).device"
      ],
      "metadata": {
        "colab": {
          "base_uri": "https://localhost:8080/"
        },
        "id": "mquMOpnih-56",
        "outputId": "da9c109c-2505-407a-9474-a0da50ef14c2"
      },
      "execution_count": null,
      "outputs": [
        {
          "output_type": "execute_result",
          "data": {
            "text/plain": [
              "device(type='cpu')"
            ]
          },
          "metadata": {},
          "execution_count": 216
        }
      ]
    },
    {
      "cell_type": "code",
      "source": [
        "#set the model to use the target device\n",
        "model_1.to(device)\n",
        "next(model_1.parameters()).device"
      ],
      "metadata": {
        "colab": {
          "base_uri": "https://localhost:8080/"
        },
        "id": "CwS2iFe5hhC0",
        "outputId": "7b8f6784-7cea-4404-eb19-df6684ac4aa8"
      },
      "execution_count": null,
      "outputs": [
        {
          "output_type": "execute_result",
          "data": {
            "text/plain": [
              "device(type='cpu')"
            ]
          },
          "metadata": {},
          "execution_count": 217
        }
      ]
    },
    {
      "cell_type": "code",
      "source": [
        " #training\n",
        "loss_fn = nn.L1Loss()\n",
        "\n",
        "optimizer = torch.optim.SGD(params=model_1.parameters(), lr=0.01)"
      ],
      "metadata": {
        "id": "n4x2A4iriRZU"
      },
      "execution_count": null,
      "outputs": []
    },
    {
      "cell_type": "code",
      "source": [
        "torch.manual_seed(42)\n",
        "\n",
        "epoch = 200\n",
        "\n",
        "X_train = X_train.to(device)\n",
        "y_train = y_train.to(device)\n",
        "X_test = X_test.to(device)\n",
        "y_test = y_test.to(device)\n",
        "\n",
        "for epoch in range(epochs):\n",
        "  model_1.train()\n",
        "\n",
        "  y_pred = model_1(X_train)\n",
        "\n",
        "  loss = loss_fn(y_pred, y_train)\n",
        "\n",
        "  optimizer.zero_grad()\n",
        "\n",
        "  loss.backward()\n",
        "\n",
        "  optimizer.step()\n",
        "\n",
        "  #testingg\n",
        "  model_1.eval()\n",
        "  with torch.inference_mode():\n",
        "    test_pred = model_1(X_test)\n",
        "\n",
        "    test_loss = loss_fn(test_pred, y_test)\n",
        "\n",
        "    if epoch % 10 == 0:\n",
        "      print(f\"Epoch: {epoch} | Loss: {loss} | Test loss: {test_loss}\")"
      ],
      "metadata": {
        "colab": {
          "base_uri": "https://localhost:8080/"
        },
        "id": "fsRjnraajZTy",
        "outputId": "312b3695-c647-4e2f-fd3b-b03d16d86314"
      },
      "execution_count": null,
      "outputs": [
        {
          "output_type": "stream",
          "name": "stdout",
          "text": [
            "Epoch: 0 | Loss: 0.013358138501644135 | Test loss: 0.03069612756371498\n",
            "Epoch: 10 | Loss: 0.009927102364599705 | Test loss: 0.02242358960211277\n",
            "Epoch: 20 | Loss: 0.006488305516541004 | Test loss: 0.014151099137961864\n",
            "Epoch: 30 | Loss: 0.0030562281608581543 | Test loss: 0.006565505173057318\n",
            "Epoch: 40 | Loss: 0.004468251019716263 | Test loss: 0.010956871323287487\n",
            "Epoch: 50 | Loss: 0.004468251019716263 | Test loss: 0.010956871323287487\n",
            "Epoch: 60 | Loss: 0.004468251019716263 | Test loss: 0.010956871323287487\n",
            "Epoch: 70 | Loss: 0.004468251019716263 | Test loss: 0.010956871323287487\n",
            "Epoch: 80 | Loss: 0.004468251019716263 | Test loss: 0.010956871323287487\n",
            "Epoch: 90 | Loss: 0.004468251019716263 | Test loss: 0.010956871323287487\n",
            "Epoch: 100 | Loss: 0.004468251019716263 | Test loss: 0.010956871323287487\n",
            "Epoch: 110 | Loss: 0.004468251019716263 | Test loss: 0.010956871323287487\n",
            "Epoch: 120 | Loss: 0.004468251019716263 | Test loss: 0.010956871323287487\n",
            "Epoch: 130 | Loss: 0.004468251019716263 | Test loss: 0.010956871323287487\n",
            "Epoch: 140 | Loss: 0.004468251019716263 | Test loss: 0.010956871323287487\n",
            "Epoch: 150 | Loss: 0.004468251019716263 | Test loss: 0.010956871323287487\n",
            "Epoch: 160 | Loss: 0.004468251019716263 | Test loss: 0.010956871323287487\n",
            "Epoch: 170 | Loss: 0.004468251019716263 | Test loss: 0.010956871323287487\n",
            "Epoch: 180 | Loss: 0.004468251019716263 | Test loss: 0.010956871323287487\n",
            "Epoch: 190 | Loss: 0.004468251019716263 | Test loss: 0.010956871323287487\n"
          ]
        }
      ]
    },
    {
      "cell_type": "code",
      "source": [
        "model_1.state_dict()"
      ],
      "metadata": {
        "colab": {
          "base_uri": "https://localhost:8080/"
        },
        "id": "B7wa67CwlXtw",
        "outputId": "619a1425-0d15-48e6-805f-e4632ca286b6"
      },
      "execution_count": null,
      "outputs": [
        {
          "output_type": "execute_result",
          "data": {
            "text/plain": [
              "OrderedDict([('linear_layer.weight', tensor([[0.2664]])),\n",
              "             ('linear_layer.bias', tensor([0.2720]))])"
            ]
          },
          "metadata": {},
          "execution_count": 220
        }
      ]
    },
    {
      "cell_type": "code",
      "source": [
        "weight, bias"
      ],
      "metadata": {
        "colab": {
          "base_uri": "https://localhost:8080/"
        },
        "id": "yolJVTprlcJ7",
        "outputId": "d7fada78-bd63-4fab-e077-c80563de71b8"
      },
      "execution_count": null,
      "outputs": [
        {
          "output_type": "execute_result",
          "data": {
            "text/plain": [
              "(0.2, 0.3)"
            ]
          },
          "metadata": {},
          "execution_count": 221
        }
      ]
    },
    {
      "cell_type": "code",
      "source": [
        "model_1.eval()\n",
        "\n",
        "with torch.inference_mode():\n",
        "  y_preds = model_1(X_test)\n",
        "y_preds"
      ],
      "metadata": {
        "colab": {
          "base_uri": "https://localhost:8080/"
        },
        "id": "jlRvSeGglfhR",
        "outputId": "abbdab31-ac10-4446-f6f2-ba704a9d35e6"
      },
      "execution_count": null,
      "outputs": [
        {
          "output_type": "execute_result",
          "data": {
            "text/plain": [
              "tensor([[0.4571],\n",
              "        [0.4612],\n",
              "        [0.4653],\n",
              "        [0.4694],\n",
              "        [0.4734],\n",
              "        [0.4775],\n",
              "        [0.4816],\n",
              "        [0.4857],\n",
              "        [0.4898],\n",
              "        [0.4938]])"
            ]
          },
          "metadata": {},
          "execution_count": 225
        }
      ]
    },
    {
      "cell_type": "code",
      "source": [
        "#check out model predictions visually\n",
        "plot_predictions(predictions=y_preds.cpu())"
      ],
      "metadata": {
        "colab": {
          "base_uri": "https://localhost:8080/",
          "height": 428
        },
        "id": "vOUF95NPmaEJ",
        "outputId": "05155424-b23b-40cc-d879-03a314c0b489"
      },
      "execution_count": null,
      "outputs": [
        {
          "output_type": "display_data",
          "data": {
            "text/plain": [
              "<Figure size 720x504 with 1 Axes>"
            ],
            "image/png": "[encoded data removed]"
          },
          "metadata": {
            "needs_background": "light"
          }
        }
      ]
    },
    {
      "cell_type": "code",
      "source": [
        "from pathlib import Path\n",
        "\n",
        "MODEL_PATH = Path(\"models\")\n",
        "MODEL_PATH.mkdir(parents=True, exist_ok=True)\n",
        "\n",
        "MODEL_NAME = \"01_pytorch_workflow_model_1.pth\"\n",
        "MODEL_SAVE_PATH = MODEL_PATH / MODEL_NAME\n",
        "\n",
        "print(f\"Saving model to: {MODEL_SAVE_PATH}\")\n",
        "torch.save(obj=model_1.state_dict(), f=MODEL_SAVE_PATH)"
      ],
      "metadata": {
        "colab": {
          "base_uri": "https://localhost:8080/"
        },
        "id": "CETthCDpnZrZ",
        "outputId": "ff846665-f49c-44ff-91c7-5c9e26029da1"
      },
      "execution_count": null,
      "outputs": [
        {
          "output_type": "stream",
          "name": "stdout",
          "text": [
            "Saving model to: models/01_pytorch_workflow_model_1.pth\n"
          ]
        }
      ]
    },
    {
      "cell_type": "code",
      "source": [
        "#Load a Pytorch\n",
        "loaded_model_1 = LinearRegressionModelV2()\n",
        "\n",
        "loaded_model_1.load_state_dict(torch.load(MODEL_SAVE_PATH))\n",
        "\n",
        "loaded_model_1.to(device)"
      ],
      "metadata": {
        "colab": {
          "base_uri": "https://localhost:8080/"
        },
        "id": "9uXd0v-jonBH",
        "outputId": "eb56dcbd-b1bc-4665-d104-8eec565e9590"
      },
      "execution_count": null,
      "outputs": [
        {
          "output_type": "execute_result",
          "data": {
            "text/plain": [
              "LinearRegressionModelV2(\n",
              "  (linear_layer): Linear(in_features=1, out_features=1, bias=True)\n",
              ")"
            ]
          },
          "metadata": {},
          "execution_count": 231
        }
      ]
    },
    {
      "cell_type": "code",
      "source": [
        "next(loaded_model_1.parameters()).device"
      ],
      "metadata": {
        "colab": {
          "base_uri": "https://localhost:8080/"
        },
        "id": "HE_JNR_IpudA",
        "outputId": "4adf18c5-ad62-4d0f-b1c4-7baa086beffb"
      },
      "execution_count": null,
      "outputs": [
        {
          "output_type": "execute_result",
          "data": {
            "text/plain": [
              "device(type='cpu')"
            ]
          },
          "metadata": {},
          "execution_count": 232
        }
      ]
    },
    {
      "cell_type": "code",
      "source": [
        "loaded_model_1.state_dict()"
      ],
      "metadata": {
        "colab": {
          "base_uri": "https://localhost:8080/"
        },
        "id": "7vam-YK2p1qe",
        "outputId": "c073e1c8-9c0d-4221-c206-908ca7f233cc"
      },
      "execution_count": null,
      "outputs": [
        {
          "output_type": "execute_result",
          "data": {
            "text/plain": [
              "OrderedDict([('linear_layer.weight', tensor([[0.2039]])),\n",
              "             ('linear_layer.bias', tensor([0.2940]))])"
            ]
          },
          "metadata": {},
          "execution_count": 233
        }
      ]
    },
    {
      "cell_type": "code",
      "source": [
        "#evaluate loaded model\n",
        "loaded_model_1.eval()\n",
        "with torch.inference_mode():\n",
        "  loaded_model_1_preds = loaded_model_1(X_test)\n",
        "y_preds == loaded_model_1_preds"
      ],
      "metadata": {
        "colab": {
          "base_uri": "https://localhost:8080/"
        },
        "id": "PWARjnY0p7AK",
        "outputId": "8a508b22-66f4-4958-a56c-b4fadfe8b329"
      },
      "execution_count": null,
      "outputs": [
        {
          "output_type": "execute_result",
          "data": {
            "text/plain": [
              "tensor([[True],\n",
              "        [True],\n",
              "        [True],\n",
              "        [True],\n",
              "        [True],\n",
              "        [True],\n",
              "        [True],\n",
              "        [True],\n",
              "        [True],\n",
              "        [True]])"
            ]
          },
          "metadata": {},
          "execution_count": 234
        }
      ]
    },
    {
      "cell_type": "code",
      "source": [],
      "metadata": {
        "id": "uuwo16T1qZOU"
      },
      "execution_count": null,
      "outputs": []
    }
  ]
}